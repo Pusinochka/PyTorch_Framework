{
 "cells": [
  {
   "cell_type": "code",
   "execution_count": 1,
   "metadata": {},
   "outputs": [],
   "source": [
    "import torch\n",
    "from torch import nn \n",
    "from torch import optim\n",
    "from torch.autograd import Variable"
   ]
  },
  {
   "cell_type": "code",
   "execution_count": 2,
   "metadata": {},
   "outputs": [],
   "source": [
    "def print_tens_info(tensor):\n",
    "    print(\"X :\\n%s\\n\" % tensor)\n",
    "    print(\"Количество измерений:\\n%s\\n\" % tensor.dim())\n",
    "    print(\"Размер : \",  tensor.size())\n",
    "    print(\"Тип : %s\\n\" % (tensor.type()))"
   ]
  },
  {
   "cell_type": "code",
   "execution_count": 3,
   "metadata": {},
   "outputs": [
    {
     "name": "stdout",
     "output_type": "stream",
     "text": [
      "X :\n",
      "tensor([[[-1.4696,  0.4056,  1.6710, -1.1798,  0.6844],\n",
      "         [-1.1954, -0.9837, -1.3403, -0.2635, -0.5861],\n",
      "         [-1.3834, -0.0852,  0.1231, -0.5423, -0.3684],\n",
      "         [ 0.6454,  0.3011,  0.9339,  2.4342, -0.0698]],\n",
      "\n",
      "        [[-0.2386, -1.6714,  0.2958,  0.1874,  1.5840],\n",
      "         [-0.1105, -1.3327, -1.1978, -0.3258, -1.0520],\n",
      "         [ 0.5961,  0.1744,  1.4077, -0.1485,  0.6274],\n",
      "         [-1.1666,  0.5265, -0.5704,  0.3126, -0.4520]],\n",
      "\n",
      "        [[-0.9261,  0.4658,  1.2665, -0.4470, -0.4515],\n",
      "         [-0.4956, -0.6534,  0.6143,  1.5877, -0.8341],\n",
      "         [-1.1421,  1.1340, -0.9170, -0.4177,  0.9509],\n",
      "         [ 0.1847,  1.5190,  0.8197, -0.7432, -1.2242]]])\n",
      "\n",
      "Количество измерений:\n",
      "3\n",
      "\n",
      "Размер :  torch.Size([3, 4, 5])\n",
      "Тип : torch.FloatTensor\n",
      "\n"
     ]
    }
   ],
   "source": [
    "# Создайте случайный FloatTensor размера 3x4x5\n",
    "\n",
    "float_x = torch.randn([3, 4, 5], dtype=torch.float32)\n",
    "print_tens_info(float_x)"
   ]
  },
  {
   "cell_type": "code",
   "execution_count": 4,
   "metadata": {},
   "outputs": [
    {
     "data": {
      "text/plain": [
       "torch.Size([3, 4, 5])"
      ]
     },
     "execution_count": 4,
     "metadata": {},
     "output_type": "execute_result"
    }
   ],
   "source": [
    "# Выведите его форму (shape)\n",
    "\n",
    "float_x.shape"
   ]
  },
  {
   "cell_type": "code",
   "execution_count": 5,
   "metadata": {},
   "outputs": [
    {
     "name": "stdout",
     "output_type": "stream",
     "text": [
      "X :\n",
      "tensor([[-1.4696,  0.4056,  1.6710, -1.1798,  0.6844, -1.1954, -0.9837, -1.3403,\n",
      "         -0.2635, -0.5861],\n",
      "        [-1.3834, -0.0852,  0.1231, -0.5423, -0.3684,  0.6454,  0.3011,  0.9339,\n",
      "          2.4342, -0.0698],\n",
      "        [-0.2386, -1.6714,  0.2958,  0.1874,  1.5840, -0.1105, -1.3327, -1.1978,\n",
      "         -0.3258, -1.0520],\n",
      "        [ 0.5961,  0.1744,  1.4077, -0.1485,  0.6274, -1.1666,  0.5265, -0.5704,\n",
      "          0.3126, -0.4520],\n",
      "        [-0.9261,  0.4658,  1.2665, -0.4470, -0.4515, -0.4956, -0.6534,  0.6143,\n",
      "          1.5877, -0.8341],\n",
      "        [-1.1421,  1.1340, -0.9170, -0.4177,  0.9509,  0.1847,  1.5190,  0.8197,\n",
      "         -0.7432, -1.2242]])\n",
      "\n",
      "Количество измерений:\n",
      "2\n",
      "\n",
      "Размер :  torch.Size([6, 10])\n",
      "Тип : torch.FloatTensor\n",
      "\n"
     ]
    },
    {
     "data": {
      "text/plain": [
       "tensor([[-1.4696,  0.4056,  1.6710, -1.1798,  0.6844, -1.1954, -0.9837, -1.3403,\n",
       "         -0.2635, -0.5861],\n",
       "        [-1.3834, -0.0852,  0.1231, -0.5423, -0.3684,  0.6454,  0.3011,  0.9339,\n",
       "          2.4342, -0.0698],\n",
       "        [-0.2386, -1.6714,  0.2958,  0.1874,  1.5840, -0.1105, -1.3327, -1.1978,\n",
       "         -0.3258, -1.0520],\n",
       "        [ 0.5961,  0.1744,  1.4077, -0.1485,  0.6274, -1.1666,  0.5265, -0.5704,\n",
       "          0.3126, -0.4520],\n",
       "        [-0.9261,  0.4658,  1.2665, -0.4470, -0.4515, -0.4956, -0.6534,  0.6143,\n",
       "          1.5877, -0.8341],\n",
       "        [-1.1421,  1.1340, -0.9170, -0.4177,  0.9509,  0.1847,  1.5190,  0.8197,\n",
       "         -0.7432, -1.2242]])"
      ]
     },
     "execution_count": 5,
     "metadata": {},
     "output_type": "execute_result"
    }
   ],
   "source": [
    "# Приведите его к форме 6 X 10\n",
    "\n",
    "print_tens_info(float_x.view(6,10))\n",
    "float_x_reshape = float_x.view(6,10)\n",
    "float_x_reshape"
   ]
  },
  {
   "cell_type": "code",
   "execution_count": 6,
   "metadata": {},
   "outputs": [
    {
     "data": {
      "text/plain": [
       "tensor([[[-1.4696,  1.6225,  3.3421, -2.3595,  0.6844],\n",
       "         [-1.1954, -3.9348, -2.6807, -0.5270, -0.5861],\n",
       "         [-1.3834, -0.3409,  0.2461, -1.0847, -0.3684],\n",
       "         [ 0.6454,  1.2043,  1.8677,  4.8683, -0.0698]],\n",
       "\n",
       "        [[-0.2386, -6.6856,  0.5916,  0.3748,  1.5840],\n",
       "         [-0.1105, -5.3309, -2.3957, -0.6515, -1.0520],\n",
       "         [ 0.5961,  0.6977,  2.8155, -0.2970,  0.6274],\n",
       "         [-1.1666,  2.1060, -1.1408,  0.6252, -0.4520]],\n",
       "\n",
       "        [[-0.9261,  1.8631,  2.5331, -0.8940, -0.4515],\n",
       "         [-0.4956, -2.6136,  1.2287,  3.1754, -0.8341],\n",
       "         [-1.1421,  4.5361, -1.8341, -0.8353,  0.9509],\n",
       "         [ 0.1847,  6.0762,  1.6395, -1.4864, -1.2242]]])"
      ]
     },
     "execution_count": 6,
     "metadata": {},
     "output_type": "execute_result"
    }
   ],
   "source": [
    "# Умножьте его на вектор [1, 4, 2, 2, 1] поэлементно\n",
    "\n",
    "y =  [1, 4, 2, 2, 1]\n",
    "tensor2 = torch.FloatTensor(y)\n",
    "float_x*tensor2"
   ]
  },
  {
   "cell_type": "code",
   "execution_count": 8,
   "metadata": {},
   "outputs": [
    {
     "name": "stdout",
     "output_type": "stream",
     "text": [
      "X :\n",
      "tensor([[11.5831, -0.3280,  4.7809,  3.9753,  4.3671, -0.1507],\n",
      "        [-0.3280,  9.6752, -2.4870, -1.1514,  5.7861,  0.8651],\n",
      "        [ 4.7809, -2.4870,  9.9181,  1.4326, -0.4320, -1.9631],\n",
      "        [ 3.9753, -1.1514,  1.4326,  5.0486,  1.8523, -0.6777],\n",
      "        [ 4.3671,  5.7861, -0.4320,  1.8523,  7.3488, -0.5575],\n",
      "        [-0.1507,  0.8651, -1.9631, -0.6777, -0.5575,  9.5747]])\n",
      "\n",
      "Количество измерений:\n",
      "2\n",
      "\n",
      "Размер :  torch.Size([6, 6])\n",
      "Тип : torch.FloatTensor\n",
      "\n"
     ]
    },
    {
     "data": {
      "text/plain": [
       "tensor([[11.5831, -0.3280,  4.7809,  3.9753,  4.3671, -0.1507],\n",
       "        [-0.3280,  9.6752, -2.4870, -1.1514,  5.7861,  0.8651],\n",
       "        [ 4.7809, -2.4870,  9.9181,  1.4326, -0.4320, -1.9631],\n",
       "        [ 3.9753, -1.1514,  1.4326,  5.0486,  1.8523, -0.6777],\n",
       "        [ 4.3671,  5.7861, -0.4320,  1.8523,  7.3488, -0.5575],\n",
       "        [-0.1507,  0.8651, -1.9631, -0.6777, -0.5575,  9.5747]])"
      ]
     },
     "execution_count": 8,
     "metadata": {},
     "output_type": "execute_result"
    }
   ],
   "source": [
    "# Умножьте тензор матрично на себя, чтобы результат был размерности 6x6\n",
    "\n",
    "\n",
    "print_tens_info(torch.matmul(float_x_reshape, float_x_reshape.T))\n",
    "torch.matmul(float_x_reshape, float_x_reshape.T)"
   ]
  },
  {
   "cell_type": "code",
   "execution_count": 9,
   "metadata": {},
   "outputs": [],
   "source": [
    "# Посчитайте производную функции y = x**3 + z - 75t в точке (1, 0.5, 2)\n",
    "\n",
    "def get_derivative_func(coordinates:list = [1, 0.5, 2]):\n",
    "    \"\"\"производные функции y = x**3 + z - 75t в точке (1, 0.5, 2)\n",
    "    вывод: [производная по x, z, t]\"\"\"\n",
    "    \n",
    "    x = Variable(torch.ones(1)*coordinates[0], requires_grad = True)\n",
    "    z = Variable(torch.ones(1)*coordinates[1], requires_grad = True)\n",
    "    t = Variable(torch.ones(1)*coordinates[2], requires_grad = True)\n",
    "\n",
    "    y = x**3 + z - 75*t\n",
    "    y.backward(torch.ones(1))\n",
    "    \n",
    "    print(f'x.grad: {x.grad}\\nz.grad: {z.grad}\\nt.grad: {t.grad}\\n')"
   ]
  },
  {
   "cell_type": "code",
   "execution_count": 10,
   "metadata": {},
   "outputs": [
    {
     "name": "stdout",
     "output_type": "stream",
     "text": [
      "3\n",
      "x.grad: tensor([3.])\n",
      "z.grad: tensor([1.])\n",
      "t.grad: tensor([-75.])\n",
      "\n"
     ]
    }
   ],
   "source": [
    "print(3*1**2)\n",
    "get_derivative_func()"
   ]
  },
  {
   "cell_type": "code",
   "execution_count": 11,
   "metadata": {},
   "outputs": [
    {
     "name": "stdout",
     "output_type": "stream",
     "text": [
      "12\n",
      "x.grad: tensor([12.])\n",
      "z.grad: tensor([1.])\n",
      "t.grad: tensor([-75.])\n",
      "\n"
     ]
    }
   ],
   "source": [
    "print(3*2**2)\n",
    "get_derivative_func(coordinates=[2, 67, 98])"
   ]
  },
  {
   "cell_type": "code",
   "execution_count": 12,
   "metadata": {},
   "outputs": [
    {
     "name": "stdout",
     "output_type": "stream",
     "text": [
      "108\n",
      "x.grad: tensor([108.])\n",
      "z.grad: tensor([1.])\n",
      "t.grad: tensor([-75.])\n",
      "\n"
     ]
    }
   ],
   "source": [
    "print(3*6**2)\n",
    "get_derivative_func(coordinates=[6, 67, 98])"
   ]
  },
  {
   "cell_type": "code",
   "execution_count": 13,
   "metadata": {},
   "outputs": [
    {
     "data": {
      "text/plain": [
       "tensor([[1., 1., 1., 1., 1., 1.],\n",
       "        [1., 1., 1., 1., 1., 1.],\n",
       "        [1., 1., 1., 1., 1., 1.],\n",
       "        [1., 1., 1., 1., 1., 1.],\n",
       "        [1., 1., 1., 1., 1., 1.]])"
      ]
     },
     "execution_count": 13,
     "metadata": {},
     "output_type": "execute_result"
    }
   ],
   "source": [
    "# Создайте единичный тензор размера 5x6\n",
    "\n",
    "z = torch.ones(5,6)\n",
    "z"
   ]
  },
  {
   "cell_type": "code",
   "execution_count": 14,
   "metadata": {},
   "outputs": [
    {
     "data": {
      "text/plain": [
       "array([[1., 1., 1., 1., 1., 1.],\n",
       "       [1., 1., 1., 1., 1., 1.],\n",
       "       [1., 1., 1., 1., 1., 1.],\n",
       "       [1., 1., 1., 1., 1., 1.],\n",
       "       [1., 1., 1., 1., 1., 1.]], dtype=float32)"
      ]
     },
     "execution_count": 14,
     "metadata": {},
     "output_type": "execute_result"
    }
   ],
   "source": [
    "# Переведите его в формат numpy\n",
    "\n",
    "z.numpy()"
   ]
  },
  {
   "cell_type": "code",
   "execution_count": 15,
   "metadata": {},
   "outputs": [],
   "source": [
    "# Давайте теперь пооптимизируем: возьмите функцию y = x**w1 - 2 * x**2 + 5\n",
    "# Посчитайте \n",
    "\n",
    "def get_optimization_func(coordinat_x=1):\n",
    "    \"\"\"y = x**w - 2*x**2 + 5 in coordinat_x\"\"\"\n",
    "    x = torch.ones(1)*coordinat_x\n",
    "    w = Variable(torch.ones(1), requires_grad = True)\n",
    "\n",
    "    optimizer = optim.SGD([w], lr=0.01)\n",
    "    criterion = nn.MSELoss()\n",
    "    optimizer.zero_grad()\n",
    "\n",
    "    y = x**w - 2*x**2 + 5\n",
    "    loss = criterion(y, torch.ones(1)*10)\n",
    "    print(f\"loss:\\n\\t{loss.item()}\")\n",
    "    loss.backward()\n",
    "    optimizer.step()\n",
    "    print(f\"y = x**w - 2*x**2 + 5:\\n\\t{y}\")\n",
    "    print(f\"w.grad:\\n\\t{w.grad}\")"
   ]
  },
  {
   "cell_type": "code",
   "execution_count": 16,
   "metadata": {},
   "outputs": [
    {
     "name": "stdout",
     "output_type": "stream",
     "text": [
      "loss:\n",
      "\t25.0\n",
      "y = x**w - 2*x**2 + 5:\n",
      "\ttensor([5.], grad_fn=<AddBackward0>)\n",
      "w.grad:\n",
      "\ttensor([-0.])\n",
      "==================================================================\n",
      "loss:\n",
      "\t36.0\n",
      "y = x**w - 2*x**2 + 5:\n",
      "\ttensor([4.], grad_fn=<AddBackward0>)\n",
      "w.grad:\n",
      "\ttensor([-0.])\n",
      "==================================================================\n",
      "loss:\n",
      "\t121.0\n",
      "y = x**w - 2*x**2 + 5:\n",
      "\ttensor([-1.], grad_fn=<AddBackward0>)\n",
      "w.grad:\n",
      "\ttensor([-30.4985])\n",
      "==================================================================\n",
      "loss:\n",
      "\t400.0\n",
      "y = x**w - 2*x**2 + 5:\n",
      "\ttensor([-10.], grad_fn=<AddBackward0>)\n",
      "w.grad:\n",
      "\ttensor([-131.8335])\n",
      "==================================================================\n",
      "loss:\n",
      "\t1089.0\n",
      "y = x**w - 2*x**2 + 5:\n",
      "\ttensor([-23.], grad_fn=<AddBackward0>)\n",
      "w.grad:\n",
      "\ttensor([-365.9817])\n",
      "==================================================================\n",
      "loss:\n",
      "\t2500.0\n",
      "y = x**w - 2*x**2 + 5:\n",
      "\ttensor([-40.], grad_fn=<AddBackward0>)\n",
      "w.grad:\n",
      "\ttensor([-804.7190])\n",
      "==================================================================\n",
      "loss:\n",
      "\t5041.0\n",
      "y = x**w - 2*x**2 + 5:\n",
      "\ttensor([-61.], grad_fn=<AddBackward0>)\n",
      "w.grad:\n",
      "\ttensor([-1526.5791])\n",
      "==================================================================\n",
      "loss:\n",
      "\t9216.0\n",
      "y = x**w - 2*x**2 + 5:\n",
      "\ttensor([-86.], grad_fn=<AddBackward0>)\n",
      "w.grad:\n",
      "\ttensor([-2615.3032])\n",
      "==================================================================\n",
      "loss:\n",
      "\t15625.0\n",
      "y = x**w - 2*x**2 + 5:\n",
      "\ttensor([-115.], grad_fn=<AddBackward0>)\n",
      "w.grad:\n",
      "\ttensor([-4158.8833])\n",
      "==================================================================\n",
      "loss:\n",
      "\t24964.0\n",
      "y = x**w - 2*x**2 + 5:\n",
      "\ttensor([-148.], grad_fn=<AddBackward0>)\n",
      "w.grad:\n",
      "\ttensor([-6248.9067])\n",
      "==================================================================\n"
     ]
    }
   ],
   "source": [
    "for coordiant in range(10):\n",
    "    get_optimization_func(coordinat_x=coordiant)\n",
    "    print('=='*33)"
   ]
  },
  {
   "cell_type": "code",
   "execution_count": null,
   "metadata": {},
   "outputs": [],
   "source": []
  }
 ],
 "metadata": {
  "kernelspec": {
   "display_name": "Python 3 (ipykernel)",
   "language": "python",
   "name": "python3"
  },
  "language_info": {
   "codemirror_mode": {
    "name": "ipython",
    "version": 3
   },
   "file_extension": ".py",
   "mimetype": "text/x-python",
   "name": "python",
   "nbconvert_exporter": "python",
   "pygments_lexer": "ipython3",
   "version": "3.10.9"
  }
 },
 "nbformat": 4,
 "nbformat_minor": 2
}
